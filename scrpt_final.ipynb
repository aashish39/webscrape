{
 "cells": [
  {
   "cell_type": "code",
   "execution_count": 4,
   "id": "1f1ebf5f-884a-4cbf-a147-6581f0d879ad",
   "metadata": {},
   "outputs": [],
   "source": [
    "# Final Script"
   ]
  },
  {
   "cell_type": "code",
   "execution_count": 7,
   "id": "b64d646f-4a20-4b25-b09e-9c35a55845fc",
   "metadata": {},
   "outputs": [],
   "source": [
    "# import scrapy\n",
    "import json\n",
    "import pymongo\n",
    "from bs4 import BeautifulSoup\n",
    "import requests\n",
    "import pandas as pd"
   ]
  },
  {
   "cell_type": "code",
   "execution_count": 5,
   "id": "e20003e1-4900-407a-adef-9fa9de5eea49",
   "metadata": {},
   "outputs": [],
   "source": [
    "def email(string):\n",
    "    if not string or len(string) < 2:  # Check if string is empty or too short\n",
    "        return None  # Or return an appropriate fallback value\n",
    "    \n",
    "    try:\n",
    "        r = int(string[:2], 16)  # Convert the first two characters to an integer\n",
    "        email = ''.join([chr(int(string[i:i+2], 16) ^ r) for i in range(2, len(string), 2)])\n",
    "        return email\n",
    "    except ValueError as e:\n",
    "        print(f\"Error decoding email: {e}\")\n",
    "        return None"
   ]
  },
  {
   "cell_type": "code",
   "execution_count": 69,
   "id": "4cfe3d66-2b38-49cb-a484-852f19168f1a",
   "metadata": {},
   "outputs": [],
   "source": [
    "def get_details(link):\n",
    "    response = requests.get(link)    \n",
    "    txt = response.text\n",
    "    soup_time = BeautifulSoup(txt,'html.parser')\n",
    "    date = soup_time.find('p',{'class':'mb-no'}).text\n",
    "    start = txt.find(\"Media Contact\")+21\n",
    "    end = txt[start:].find(\"SOURCE\")\n",
    "    required_text = txt[start:start+end]\n",
    "    soup = BeautifulSoup(required_text, 'html.parser')\n",
    "    get_details = []\n",
    "    if len(soup.find_all('p'))>1:\n",
    "        for para in soup.find_all('p'):\n",
    "            final_text = str(para)\n",
    "            start = final_text.find(\"email-protection#\")\n",
    "            end = final_text[start:].find('\"')\n",
    "            # print(final_text[start+17:start+end])\n",
    "            email_final = email(final_text[start+17:start+end])\n",
    "            if email_final:\n",
    "                final_text = final_text.replace('\\xa0', ' ').replace('[email protected]', email_final) + \" \"\n",
    "                soup = BeautifulSoup(final_text,'html.parser')\n",
    "                get_details.append(soup.text)\n",
    "    else:\n",
    "        final_text = required_text\n",
    "        start = final_text.find(\"email-protection#\")\n",
    "        end = final_text[start:].find('\"')\n",
    "            # print(final_text[start+17:start+end])\n",
    "        email_final = email(final_text[start+17:start+end])\n",
    "        if email_final:\n",
    "            final_text = final_text.replace('\\xa0', ' ').replace('[email protected]', email_final) + \" \"\n",
    "            soup = BeautifulSoup(final_text,'html.parser')\n",
    "            get_details.append(soup.text)\n",
    "        \n",
    "    return {'date':date,'data':get_details,'text':soup_time.text}"
   ]
  },
  {
   "cell_type": "code",
   "execution_count": 70,
   "id": "f64e3710-4fc7-4cb6-81de-e444c4c8316f",
   "metadata": {},
   "outputs": [],
   "source": [
    "df = pd.read_csv(\"DataLinks_Dt_13_04.News_links.csv\")"
   ]
  },
  {
   "cell_type": "code",
   "execution_count": 74,
   "id": "108a3403-795e-4522-8e33-6c8ff4250f90",
   "metadata": {},
   "outputs": [],
   "source": [
    "df['link']=[f\"https://www.prweb.com{x}\" for x in df['link']]"
   ]
  },
  {
   "cell_type": "code",
   "execution_count": 76,
   "id": "93206d6e-9bd2-455f-bd05-fd27e67b749e",
   "metadata": {},
   "outputs": [],
   "source": [
    "# get_details(df['link'][8])"
   ]
  },
  {
   "cell_type": "code",
   "execution_count": null,
   "id": "0f900f7e-d632-4990-a926-a3cdd05c067d",
   "metadata": {},
   "outputs": [],
   "source": []
  }
 ],
 "metadata": {
  "kernelspec": {
   "display_name": "Python 3 (ipykernel)",
   "language": "python",
   "name": "python3"
  },
  "language_info": {
   "codemirror_mode": {
    "name": "ipython",
    "version": 3
   },
   "file_extension": ".py",
   "mimetype": "text/x-python",
   "name": "python",
   "nbconvert_exporter": "python",
   "pygments_lexer": "ipython3",
   "version": "3.13.2"
  }
 },
 "nbformat": 4,
 "nbformat_minor": 5
}
