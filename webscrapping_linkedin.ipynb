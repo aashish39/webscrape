{
 "cells": [
  {
   "cell_type": "code",
   "execution_count": 2,
   "id": "f034c77f",
   "metadata": {},
   "outputs": [],
   "source": [
    "from selenium import webdriver\n",
    "from selenium.webdriver.common.by import By\n",
    "from bs4 import BeautifulSoup\n",
    "import time\n",
    "from selenium.webdriver.common.keys import Keys"
   ]
  },
  {
   "cell_type": "code",
   "execution_count": 59,
   "id": "29749982",
   "metadata": {},
   "outputs": [],
   "source": [
    "def data_validation(header,data,job_title,company_name):\n",
    "    data = data.lower()\n",
    "    comment = \"\"\n",
    "\n",
    "    if \"retired\" in header:\n",
    "        comment = \"retired\"\n",
    "    elif \"part-time\" in header:\n",
    "        comment = \"part-time\"\n",
    "        \n",
    "    if \"present\" not in data:\n",
    "        comment = \"Dead Contact\"\n",
    "    elif \"retired\" in data:\n",
    "        comment = \"Dead Contact\"\n",
    "    \n",
    "        \n",
    "    if comment != \"retired\" and comment != \"Dead Contact\":\n",
    "        if \"present\" in data and job_title in data and company_name in data:\n",
    "            comment = \"Valid\"\n",
    "        elif \"present\" in data and company_name in data:\n",
    "            if job_title not in data:\n",
    "                comment = \"Job Title Change\"\n",
    "        elif \"present\" in data and job_title in data and company_name not in data:\n",
    "            comment = \"Dead Contact\"\n",
    "    \n",
    "    if \"retire\" in data:\n",
    "        comment = \"retired\"\n",
    "    elif comment != \"retired\" and comment != \"Dead Contact\":\n",
    "        if \"contract\" in data:\n",
    "            comment = \"contract\"\n",
    "        elif \"part-time\" in data:\n",
    "            comment = \"part-time\"\n",
    "        elif \"self-employed\" in data:\n",
    "            comment = \"self-employed\"\n",
    "        elif \"carrer break\" in data:\n",
    "            comment = \"carrer break\"      \n",
    "    return comment"
   ]
  },
  {
   "cell_type": "code",
   "execution_count": 4,
   "id": "7a4e48f1",
   "metadata": {},
   "outputs": [],
   "source": [
    "def login(email,password):\n",
    "# Creating a webdriver instance\n",
    "    driver = webdriver.Chrome()\n",
    "# This instance will be used to log into LinkedIn\n",
    "\n",
    "# Opening linkedIn's login page\n",
    "    driver.get(\"https://linkedin.com/uas/login\")\n",
    "\n",
    "# waiting for the page to load\n",
    "    time.sleep(5)\n",
    "\n",
    "# entering username\n",
    "    username = driver.find_element(By.ID, \"username\")\n",
    "\n",
    "# In case of an error, try changing the element\n",
    "# tag used here.\n",
    "\n",
    "# Enter Your Email Address\n",
    "    username.send_keys(email)\n",
    "\n",
    "# entering password\n",
    "    pword = driver.find_element(By.ID, \"password\")\n",
    "# In case of an error, try changing the element\n",
    "# tag used here.\n",
    "\n",
    "# Enter Your Password\n",
    "    pword.send_keys(password)\t\n",
    "\n",
    "# Clicking on the log in button\n",
    "# Format (syntax) of writing XPath -->\n",
    "# //tagname[@attribute='value']search-global-typeahead__input\n",
    "    driver.find_element(By.XPATH, \"//button[@type='submit']\").click()\n",
    "    return driver\n",
    "# In case of an error, try changing the\n",
    "\n",
    "def get_clean_data(input_raw_data):\n",
    "    list_of_exp = []\n",
    "    k = input_raw_data.find_all('section',{'class':'artdeco-card ember-view relative break-words pb3 mt2'})\n",
    "    a= \"pvs-entity pvs-entity--padded pvs-list__item--no-padding-in-columns\"\n",
    "    for i in range(len(k)):\n",
    "        if \"ExperienceExperience\" in k[i].text.strip().replace('\\n',\"\"):\n",
    "#         print(k[i].text.strip().replace('\\n',\"\"))\n",
    "            p= k[i].find_all('div',{'class':a})\n",
    "    list_of_exp = [i.text.strip().replace('\\n',\"\") for i in p]\n",
    "    return list_of_exp\n",
    "\n",
    "def get_profile_data(link):\n",
    "    #     Enter the profile link in above link\n",
    "    driver.get(link) \n",
    "    time.sleep(3)\n",
    "    src = driver.page_source\n",
    "     # Now using beautiful soup\n",
    "    soup = BeautifulSoup(src, 'lxml')\n",
    "    intro = soup.find('div', {'class': 'mt2 relative'})\n",
    "    header = intro.text.strip().replace(\"\\n\",\"\")\n",
    "    return header,get_clean_data(soup)"
   ]
  },
  {
   "cell_type": "code",
   "execution_count": 15,
   "id": "0615277b",
   "metadata": {},
   "outputs": [],
   "source": [
    "class get_data:\n",
    "    \n",
    "    def __init__(self,username,password):\n",
    "        self.username = username\n",
    "        self.password = password\n",
    "        \n",
    "    def login(self):\n",
    "        \n",
    "        driver = webdriver.Chrome()\n",
    "\n",
    "        driver.get(\"https://linkedin.com/uas/login\")\n",
    "\n",
    "        time.sleep(5)\n",
    "\n",
    "        username = driver.find_element(By.ID, \"username\")\n",
    "\n",
    "        username.send_keys(self.username)\n",
    "\n",
    "        pword = driver.find_element(By.ID, \"password\")\n",
    "\n",
    "        pword.send_keys(self.password)\t\n",
    "\n",
    "        driver.find_element(By.XPATH, \"//button[@type='submit']\").click()\n",
    "        return driver\n",
    "    \n",
    "    \n",
    "    def get_clean_data(self,input_raw_data):\n",
    "        list_of_exp = []\n",
    "        k = input_raw_data.find_all('section',{'class':'artdeco-card ember-view relative break-words pb3 mt2'})\n",
    "        a= \"pvs-entity pvs-entity--padded pvs-list__item--no-padding-in-columns\"\n",
    "        for i in range(len(k)):\n",
    "            if \"ExperienceExperience\" in k[i].text.strip().replace('\\n',\"\"):\n",
    "    #         print(k[i].text.strip().replace('\\n',\"\"))\n",
    "                p= k[i].find_all('div',{'class':a})\n",
    "        list_of_exp = [i.text.strip().replace('\\n',\"\") for i in p]\n",
    "        return list_of_exp\n",
    "    \n",
    "    \n",
    "    def get_profile_data(self,driver,link):\n",
    "        #     Enter the profile link in above link\n",
    "        driver.get(link) \n",
    "        time.sleep(2)\n",
    "        src = driver.page_source\n",
    "         # Now using beautiful soup\n",
    "        soup = BeautifulSoup(src, 'lxml')\n",
    "        intro = soup.find('div', {'class': 'mt2 relative'})\n",
    "        header = intro.text.strip().replace(\"\\n\",\"\")\n",
    "        return header,self.get_clean_data(soup)   "
   ]
  },
  {
   "cell_type": "code",
   "execution_count": 9,
   "id": "7014f443",
   "metadata": {},
   "outputs": [],
   "source": [
    "user_name = \"deshmukhkalyani1994@gmail.com\"\n",
    "pass_word = \"Bhau@1234\"\n",
    "prospect_data = get_data(user_name,pass_word)\n",
    "driver = prospect_data.login()"
   ]
  },
  {
   "cell_type": "code",
   "execution_count": 14,
   "id": "3800002e",
   "metadata": {},
   "outputs": [],
   "source": [
    "link = \"https://www.linkedin.com/in/anjurinagalia/\""
   ]
  },
  {
   "cell_type": "code",
   "execution_count": 17,
   "id": "263744f8",
   "metadata": {},
   "outputs": [],
   "source": [
    "header,data = prospect_data.get_profile_data(driver,link)"
   ]
  },
  {
   "cell_type": "code",
   "execution_count": 20,
   "id": "e23d3212",
   "metadata": {},
   "outputs": [
    {
     "data": {
      "text/plain": [
       "'Design Development-Amazon Private Brands (Fashion)Design Development-Amazon Private Brands (Fashion) Amazon · Full-timeAmazon · Full-timeNov 2019 - Present · 3 yrs 9 mosNov 2019 - Present · 3 yrs 9 mosBengaluru, Karnataka, IndiaBengaluru, Karnataka, India   Amazon Private Brands - Design Manager. Curating and managing Womenwear private labels - Inkast Denim &Co.: Denim Lifestyle products for womenswear and Symactive - Activewear Men and WomenAmazon Private Brands - Design Manager. Curating and managing Womenwear private labels - Inkast Denim &Co.: Denim Lifestyle products for womenswear and Symactive - Activewear Men and Women'"
      ]
     },
     "execution_count": 20,
     "metadata": {},
     "output_type": "execute_result"
    }
   ],
   "source": [
    "data[0]"
   ]
  },
  {
   "cell_type": "code",
   "execution_count": 54,
   "id": "f78760a9",
   "metadata": {},
   "outputs": [],
   "source": []
  },
  {
   "cell_type": "code",
   "execution_count": 57,
   "id": "7e88923c",
   "metadata": {},
   "outputs": [],
   "source": [
    "job_title = \"Design Development-Amazon Private Brands\"\n",
    "company_name = \"Am8azon\""
   ]
  },
  {
   "cell_type": "code",
   "execution_count": 58,
   "id": "f0d0bc8a",
   "metadata": {},
   "outputs": [
    {
     "data": {
      "text/plain": [
       "'Dead Contact'"
      ]
     },
     "execution_count": 58,
     "metadata": {},
     "output_type": "execute_result"
    }
   ],
   "source": [
    "data_validation(header,data[0],job_title.lower(),company_name.lower())"
   ]
  },
  {
   "cell_type": "code",
   "execution_count": null,
   "id": "c95b5e32",
   "metadata": {},
   "outputs": [],
   "source": []
  }
 ],
 "metadata": {
  "kernelspec": {
   "display_name": "Python 3 (ipykernel)",
   "language": "python",
   "name": "python3"
  },
  "language_info": {
   "codemirror_mode": {
    "name": "ipython",
    "version": 3
   },
   "file_extension": ".py",
   "mimetype": "text/x-python",
   "name": "python",
   "nbconvert_exporter": "python",
   "pygments_lexer": "ipython3",
   "version": "3.8.8"
  }
 },
 "nbformat": 4,
 "nbformat_minor": 5
}
